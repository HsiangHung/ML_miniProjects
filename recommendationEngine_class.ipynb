{
 "cells": [
  {
   "cell_type": "markdown",
   "metadata": {},
   "source": [
    "# **Recommendation Engine**\n",
    "\n",
    "localhost performance [link](http://localhost:4040/jobs/)"
   ]
  },
  {
   "cell_type": "code",
   "execution_count": 7,
   "metadata": {
    "collapsed": false
   },
   "outputs": [],
   "source": [
    "import os\n",
    "import math\n",
    "import numpy as np\n",
    "\n",
    "from operator import add\n",
    "\n",
    "from pyspark.mllib.recommendation import ALS\n",
    "from pyspark.mllib.recommendation import Rating\n",
    "\n",
    "from pyspark import SparkContext, SparkConf\n",
    "\n",
    "from pyspark.sql import SQLContext\n",
    "\n",
    "import logging\n",
    "logging.basicConfig(level=logging.INFO)\n",
    "logger = logging.getLogger(__name__)\n",
    "\n",
    "\n",
    "def cosineSim(a,b):\n",
    "    return 2.0*(1.0-np.dot(a,b.T)/np.linalg.norm(a)/np.linalg.norm(b))\n",
    "\n",
    "\n",
    "class RecommendationEngine(object):\n",
    "    \"\"\"A collaborative filtering recommender engine\n",
    "       http://spark.apache.org/docs/latest/mllib-collaborative-filtering.html\n",
    "       http://spark.apache.org/docs/latest/api/python/pyspark.mllib.html#pyspark.mllib.recommendation.ALS\n",
    "    \"\"\"\n",
    "    def __init__(self, ratings_file, movies_file, rank, seed, iterations, regularization_parameter):\n",
    "        \"\"\"Init the recommendation engine given a Spark context and a dataset path\n",
    "        \"\"\"\n",
    "        self.sc = sc#SparkContext(appName=\"Engine2\")\n",
    "\n",
    "        ''' Load ratings data for later use '''\n",
    "        rawRatings = self.sc.textFile(ratings_file,2)\n",
    "        #rawRatings_header = rawRatings.take(1)[0]  ## no need if there are no headers.\n",
    "        #self.parsedRatings = rawRatings.filter(lambda x: x!=rawRatings_header)\\\n",
    "        \n",
    "        self.ratings_RDD =rawRatings.map(lambda line: line.split(\"::\")).map(lambda x: Rating(int(x[0]),int(x[1]),float(x[2]))).cache()\n",
    "        #self.ratings_RDD =rawRatings.map(lambda line: line.split(\"\\t\")).map(lambda x: Rating(int(x[0]),int(x[1]),float(x[2]))).cache()\n",
    "            \n",
    "         \n",
    "        ''' Load movies data for later use '''\n",
    "        rawMovies = self.sc.textFile(movies_file,2)\n",
    "        #rawMovies_header = rawMovies.take(1)[0]\n",
    "        #self.paredMovies_RDD = rawMovies.filter(lambda x: x!=rawMovies_header)\\\n",
    "        \n",
    "        self.movies_RDD = rawMovies.map(lambda line: line.split(\"::\")).map(lambda x: (int(x[0]),x[1])).cache()\n",
    "        #self.movies_RDD = rawMovies.map(lambda line: line.split(\"|\")).map(lambda x: (int(x[0]),x[1])).cache()\n",
    "        print self.ratings_RDD.take(2)\n",
    "        print self.movies_RDD.take(2)\n",
    "             \n",
    "        self.count_and_average_ratings()\n",
    "        \n",
    "        '''  separate the data to training, validation and test sets'''\n",
    "        weights = [.6, .2, .2]\n",
    "        seed = 42\n",
    "        # Use randomSplit with weights and seed\n",
    "        self.trainData, self.valData, self.testData = self.ratings_RDD.randomSplit(weights, seed)\n",
    "        \n",
    " \n",
    "        ''' Train the model and default parameters'''\n",
    "        self.rank = rank\n",
    "        self.seed = seed\n",
    "        self.iterations = iterations\n",
    "        self.regularization_parameter = regularization_parameter\n",
    "        \n",
    "        self.train_model() \n",
    "        print 'model is done'\n",
    "\n",
    "\n",
    "    def count_and_average_ratings(self):\n",
    "        \"\"\"Updates the movies ratings counts from the current data self.ratings_RDD\"\"\"\n",
    "        movie_ID_counts = dict(self.ratings_RDD.map(lambda x: (x[1], 1)).reduceByKey(add).collect())\n",
    "        \"\"\"note: self.ratings_RDD doesn't have complete movie list since not all movies are rated.\"\"\"\n",
    "        for movie, title in self.movies_RDD.collect():\n",
    "                if movie not in movie_ID_counts: movie_ID_counts[movie] = 0\n",
    "\n",
    "        self.movie_ID_avgRating_RDD = self.ratings_RDD.map(lambda x: (x[1], x[2]/movie_ID_counts[x[1]])).\\\n",
    "                    reduceByKey(add)\n",
    "        \n",
    "        self.movie_ID_counts = movie_ID_counts\n",
    " \n",
    "\n",
    "    def train_model(self):\n",
    "        \"\"\"Train the ALS model with the current dataset\n",
    "           http://spark.apache.org/docs/latest/api/python/pyspark.mllib.html#pyspark.mllib.recommendation.ALS\n",
    "        \"\"\"\n",
    "        print self.rank, self.seed, self.iterations, self.regularization_parameter\n",
    "        #self.model = ALS.train(self.trainData, rank = self.rank, seed = self.seed,\n",
    "        #                       iterations=self.iterations, lambda_= self.regularization_parameter)\n",
    "        self.model_grid_search()\n",
    "        \n",
    "        \n",
    "        \n",
    "    def model_grid_search(self):\n",
    "        '''the grid search on parameters for ALS model'''\n",
    "        ranks = [4, 8, 12]\n",
    "        errors = []\n",
    "        min_error = float('inf')\n",
    "        best_rank = -1\n",
    "        best_reg = -1.0\n",
    "        best_iteration = -1\n",
    "        best_model = None\n",
    "        '''here we want to do grid search'''\n",
    "        X_val = self.valData.map(lambda x: (x[0], x[1]))\n",
    "        for rank in ranks:\n",
    "            for reg in [1e-3, 0.01, 0.03, 0.06, 0.1, 0.15, 0.2, 1.0]:\n",
    "                model = ALS.train(self.trainData, rank, seed=self.seed, iterations=self.iterations, lambda_=reg)\n",
    "                predictions = model.predictAll(X_val).map(lambda r: ((r[0], r[1]), r[2]))\n",
    "                rates_and_preds = self.valData.map(lambda r: ((int(r[0]), int(r[1])), float(r[2]))).join(predictions)\n",
    "                error = math.sqrt(rates_and_preds.map(lambda r: (r[1][0] - r[1][1])**2).mean())\n",
    "                errors.append(error)\n",
    "                print 'For rank %s, reg %s, the RMSE is %s' % (rank, reg, error)\n",
    "                if error < min_error:\n",
    "                    min_error = error\n",
    "                    best_model = model\n",
    "                    best_rank = rank\n",
    "                    best_reg = reg\n",
    "        '''the grid search is done'''\n",
    "        print 'The best model was trained with rank %s and reg %s' % (best_rank, best_reg)\n",
    "        print 'min error is ', min_error\n",
    "        self.rank = best_rank\n",
    "        self.regularization_parameter = best_reg\n",
    "        self.model = best_model\n",
    "        \n",
    "    \n",
    "    def add_ratings(self, ratings):\n",
    "        \"\"\"Add additional movie ratings in the format (user_id, movie_id, rating)\n",
    "        \"\"\"\n",
    "        newUser_ratings_RDD = self.sc.parallelize(ratings)               # Convert ratings to an RDD\n",
    "        #self.ratings_RDD = self.ratings_RDD.union(newUser_ratings_RDD)\n",
    "        self.trainData = self.trainData.union(newUser_ratings_RDD)       # Add new ratings to the existing ones\n",
    "        # Re-compute movie ratings count\n",
    "        self.count_and_average_ratings()\n",
    "        # Re-train the ALS model with the new ratings\n",
    "        self.train_model()\n",
    "        print 'new model training is done'\n",
    "        return newUser_ratings_RDD\n",
    "\n",
    "    \n",
    "    def ratings_accuracy(self, test_ratings_RDD):\n",
    "        \"\"\"Gets predictions for a given (userID, movieID) formatted RDD\n",
    "        this is for checking the prediction accuracy\n",
    "        \"\"\"        \n",
    "        #print test_ratings_RDD.take(2), 'ok'\n",
    "        predicted_ratings_RDD = self.get_predict_ratings(test_ratings_RDD)\n",
    "        ratings_and_preds = test_ratings_RDD.map(lambda x: ((int(x[0]), int(x[1])), float(x[2]))).\\\n",
    "                join(predicted_ratings_RDD)\n",
    "        error = math.sqrt(ratings_and_preds.map(lambda x: (x[1][0] - x[1][1])**2).mean())\n",
    "        print 'the RMSE for the model is %s' %  error    \n",
    "\n",
    "    \n",
    "    def get_predict_ratings(self, user_movie_RDD):\n",
    "        \"\"\"Gets predictions for a given (userID, movieID) formatted RDD\n",
    "        this is for checking the prediction accuracy\n",
    "        \"\"\"\n",
    "        newMovie_rating = user_movie_RDD.map(lambda x: (x[0], x[1]))\n",
    "        predicted_rating_RDD = self.model.predictAll(newMovie_rating).map(lambda x: ((x[0], x[1]), x[2]))\n",
    "        return predicted_rating_RDD\n",
    "\n",
    "\n",
    "    def recommend_top_movies(self, user_movies_RDD):\n",
    "        \"\"\"Recommends up to movies_count top UNrated movies to user_id\n",
    "        \"\"\"\n",
    "        print user_movies_RDD.take(10)\n",
    "        # Get pairs of (userID, movieID) for user_id unrated movies\n",
    "        \n",
    "        the_user = user_movies_RDD.map(lambda x: x[0]).take(1)[0]\n",
    "        print the_user\n",
    "        \n",
    "        user_rated_movies_ids = user_movies_RDD.map(lambda x: x[1]).collect() # get rated movie IDs, a list\n",
    "        user_unrated_movies_RDD = self.movies_RDD.filter(lambda x: x[0] not in user_rated_movies_ids).\\\n",
    "                    map(lambda x: (the_user, x[0]))\n",
    "        \n",
    "        #print user_unrated_movies_RDD.take(10)\n",
    "        # Get predicted ratings\n",
    "        print self.get_predict_ratings(user_unrated_movies_RDD).take(5)\n",
    "        \n",
    "        \"\"\"note in the lambda function module is not applicable, i.e. (lambda x: self..()) doesn' work!\"\"\"\n",
    "        movie_ID_counts = self.movie_ID_counts\n",
    "        \n",
    "        ratings = self.get_predict_ratings(user_unrated_movies_RDD).\\\n",
    "              filter(lambda x: movie_ID_counts[x[0][1]] > 200).sortBy(lambda x: -x[1])\n",
    "        movie_titles = dict(self.movies_RDD.collect())\n",
    "        #print movie_titles\n",
    "        \n",
    "        sortedRatings_recommd = ratings.map(lambda x: (x[0][1], movie_titles[x[0][1]], movie_ID_counts[x[0][1]], x[1]))\n",
    "        \n",
    "        sqlContext = SQLContext(self.sc)\n",
    "        schema = sqlContext.createDataFrame(sortedRatings_recommd)\n",
    "        schema.registerTempTable(\"recommend_table\")\n",
    "        pd = sqlContext.sql(\"SELECT * from recommend_table limit 10\")\n",
    "        pd.show()"
   ]
  },
  {
   "cell_type": "markdown",
   "metadata": {},
   "source": [
    "## **1M rating data**"
   ]
  },
  {
   "cell_type": "markdown",
   "metadata": {},
   "source": [
    "### **Training a model**"
   ]
  },
  {
   "cell_type": "code",
   "execution_count": 8,
   "metadata": {
    "collapsed": false
   },
   "outputs": [
    {
     "name": "stdout",
     "output_type": "stream",
     "text": [
      "[Rating(user=1, product=1193, rating=5.0), Rating(user=1, product=661, rating=3.0)]\n",
      "[(1, u'Toy Story (1995)'), (2, u'Jumanji (1995)')]\n",
      "8 42 6 0.06\n",
      "For rank 4, reg 0.001, the RMSE is 0.922987744342\n",
      "For rank 4, reg 0.01, the RMSE is 0.895466287827\n",
      "For rank 4, reg 0.03, the RMSE is 0.887010542566\n",
      "For rank 4, reg 0.06, the RMSE is 0.883851963524\n",
      "For rank 4, reg 0.1, the RMSE is 0.88669284454\n",
      "For rank 4, reg 0.15, the RMSE is 0.89688534893\n",
      "For rank 4, reg 0.2, the RMSE is 0.911706442458\n",
      "For rank 4, reg 1.0, the RMSE is 1.35149487788\n",
      "For rank 8, reg 0.001, the RMSE is 0.975113517888\n",
      "For rank 8, reg 0.01, the RMSE is 0.916084211348\n",
      "For rank 8, reg 0.03, the RMSE is 0.888832865595\n",
      "For rank 8, reg 0.06, the RMSE is 0.877317619184\n",
      "For rank 8, reg 0.1, the RMSE is 0.880366475884\n",
      "For rank 8, reg 0.15, the RMSE is 0.896353898071\n",
      "For rank 8, reg 0.2, the RMSE is 0.913529607823\n",
      "For rank 8, reg 1.0, the RMSE is 1.35157030746\n",
      "For rank 12, reg 0.001, the RMSE is 1.07823264395\n",
      "For rank 12, reg 0.01, the RMSE is 0.95056753537\n",
      "For rank 12, reg 0.03, the RMSE is 0.902752662134\n",
      "For rank 12, reg 0.06, the RMSE is 0.883016370739\n",
      "For rank 12, reg 0.1, the RMSE is 0.889136267523\n",
      "For rank 12, reg 0.15, the RMSE is 0.91306636002\n",
      "For rank 12, reg 0.2, the RMSE is 0.934187202406\n",
      "For rank 12, reg 1.0, the RMSE is 1.35234444146\n",
      "The best model was trained with rank 8 and reg 0.06\n",
      "min error is  0.877317619184\n",
      "model is done\n"
     ]
    }
   ],
   "source": [
    "rank = 8\n",
    "seed = 5L\n",
    "iterations = 6\n",
    "regularization_parameter = 0.06\n",
    "ratings_file = 'data/ratings_1m.csv'\n",
    "movies_file = 'data/movies_1m.csv'\n",
    "engine = RecommendationEngine(ratings_file, movies_file, rank, seed, iterations, regularization_parameter)"
   ]
  },
  {
   "cell_type": "code",
   "execution_count": 9,
   "metadata": {
    "collapsed": false
   },
   "outputs": [
    {
     "name": "stdout",
     "output_type": "stream",
     "text": [
      "the RMSE for the model is 0.879790106735\n"
     ]
    }
   ],
   "source": [
    "engine.ratings_accuracy(engine.testData)"
   ]
  },
  {
   "cell_type": "code",
   "execution_count": 114,
   "metadata": {
    "collapsed": false
   },
   "outputs": [
    {
     "name": "stdout",
     "output_type": "stream",
     "text": [
      "[((550, 1084), 3.7456910703564064), ((550, 3702), 3.1341887208267254), ((550, 1894), 2.8582829021343246)]\n"
     ]
    }
   ],
   "source": [
    "'''specify a user:'''\n",
    "\n",
    "userID = 550\n",
    "\n",
    "user_and_movie = engine.ratings_RDD.filter(lambda x: x[0]==userID)\n",
    "predictions = engine.get_predict_ratings(user_and_movie)\n",
    "print predictions.take(3)"
   ]
  },
  {
   "cell_type": "code",
   "execution_count": null,
   "metadata": {
    "collapsed": true
   },
   "outputs": [],
   "source": []
  },
  {
   "cell_type": "markdown",
   "metadata": {},
   "source": [
    "### **Compare predictions and variables**"
   ]
  },
  {
   "cell_type": "code",
   "execution_count": 127,
   "metadata": {
    "collapsed": false
   },
   "outputs": [
    {
     "name": "stdout",
     "output_type": "stream",
     "text": [
      "positive rating\n",
      "[((550, 1223), (5.0, 4.338440475035002)), ((550, 2987), (5.0, 3.7390153955532703)), ((550, 1603), (5.0, 3.137756037619561)), ((550, 2265), (5.0, 2.6132217180317077)), ((550, 3052), (5.0, 4.048984187669675))]\n",
      "\n",
      "negative rating\n",
      "[((550, 2448), (1.0, 2.0447964146147912)), ((550, 1014), (1.0, 2.783482625902344)), ((550, 2405), (1.0, 3.184010599410342)), ((550, 3608), (1.0, 3.1193326777993504)), ((550, 2364), (1.0, 2.6580056009088473))]\n"
     ]
    }
   ],
   "source": [
    "print 'positive rating'\n",
    "print user_and_movie.map(lambda x: ((int(x[0]), int(x[1])), float(x[2]))).join(predictions).\\\n",
    "                filter(lambda x: x[1][0] > 4).take(5)\n",
    "print\n",
    "print 'negative rating'\n",
    "print user_and_movie.map(lambda x: ((int(x[0]), int(x[1])), float(x[2]))).join(predictions).\\\n",
    "                filter(lambda x: x[1][0] < 2).take(5)"
   ]
  },
  {
   "cell_type": "code",
   "execution_count": 116,
   "metadata": {
    "collapsed": false,
    "scrolled": true
   },
   "outputs": [
    {
     "data": {
      "text/plain": [
       "[(1,\n",
       "  array('d', [-0.9535652995109558, -1.2470885515213013, 0.001925684162415564, 1.9395447969436646, -0.024253690615296364, -1.2255768775939941, 0.8556669354438782, -0.39938247203826904])),\n",
       " (2,\n",
       "  array('d', [-0.540212094783783, -1.2368093729019165, 0.5662597417831421, 1.8081927299499512, 0.40515658259391785, -0.5440500974655151, 0.9798134565353394, -0.8582444190979004]))]"
      ]
     },
     "execution_count": 116,
     "metadata": {},
     "output_type": "execute_result"
    }
   ],
   "source": [
    "engine.model.userFeatures().take(2)"
   ]
  },
  {
   "cell_type": "markdown",
   "metadata": {},
   "source": [
    "### **Predict unrated movies' ratings**"
   ]
  },
  {
   "cell_type": "code",
   "execution_count": 77,
   "metadata": {
    "collapsed": false
   },
   "outputs": [
    {
     "name": "stdout",
     "output_type": "stream",
     "text": [
      "[Rating(user=550, product=2987, rating=5.0), Rating(user=550, product=1248, rating=3.0), Rating(user=550, product=715, rating=3.0), Rating(user=550, product=2988, rating=3.0), Rating(user=550, product=571, rating=3.0), Rating(user=550, product=3934, rating=4.0), Rating(user=550, product=2052, rating=2.0), Rating(user=550, product=1250, rating=3.0), Rating(user=550, product=2053, rating=2.0), Rating(user=550, product=3793, rating=4.0)]\n",
      "550\n",
      "[((550, 384), 1.9965907831703913), ((550, 3007), 3.5269112527425586), ((550, 667), 2.3247788835275194), ((550, 1053), 2.4286723949838613), ((550, 2493), 3.8307446433748735)]\n",
      "_1   _2                   _3   _4                \n",
      "1178 Paths of Glory (1... 230  4.48076210206332  \n",
      "2762 Sixth Sense, The ... 2459 4.462026137726065 \n",
      "3089 Bicycle Thief, Th... 252  4.438253502137965 \n",
      "2692 Run Lola Run (Lol... 1072 4.421856850388411 \n",
      "3949 Requiem for a Dre... 304  4.40822166253173  \n",
      "1269 Arsenic and Old L... 672  4.391349556740996 \n",
      "898  Philadelphia Stor... 582  4.384858472547748 \n",
      "899  Singin' in the Ra... 751  4.356619333855072 \n",
      "2357 Central Station (... 215  4.3446874280771315\n",
      "1299 Killing Fields, T... 732  4.313752539137913 \n"
     ]
    }
   ],
   "source": [
    "engine.recommend_top_movies(user_and_movie)"
   ]
  },
  {
   "cell_type": "code",
   "execution_count": 32,
   "metadata": {
    "collapsed": false
   },
   "outputs": [
    {
     "ename": "AttributeError",
     "evalue": "'MatrixFactorizationModel' object has no attribute 'recommendUsersForProducts'",
     "output_type": "error",
     "traceback": [
      "\u001b[1;31m---------------------------------------------------------------------------\u001b[0m",
      "\u001b[1;31mAttributeError\u001b[0m                            Traceback (most recent call last)",
      "\u001b[1;32m<ipython-input-32-108765395efd>\u001b[0m in \u001b[0;36m<module>\u001b[1;34m()\u001b[0m\n\u001b[1;32m----> 1\u001b[1;33m \u001b[0mengine\u001b[0m\u001b[1;33m.\u001b[0m\u001b[0mmodel\u001b[0m\u001b[1;33m.\u001b[0m\u001b[0mrecommendUsersForProducts\u001b[0m\u001b[1;33m(\u001b[0m\u001b[0muserID\u001b[0m\u001b[1;33m)\u001b[0m\u001b[1;33m.\u001b[0m\u001b[0mtake\u001b[0m\u001b[1;33m(\u001b[0m\u001b[1;36m4\u001b[0m\u001b[1;33m)\u001b[0m\u001b[1;33m\u001b[0m\u001b[0m\n\u001b[0m",
      "\u001b[1;31mAttributeError\u001b[0m: 'MatrixFactorizationModel' object has no attribute 'recommendUsersForProducts'"
     ]
    }
   ],
   "source": [
    "engine.model.recommendUsersForProducts(userID).take(4)"
   ]
  },
  {
   "cell_type": "markdown",
   "metadata": {},
   "source": [
    "### **Item-item similarity**"
   ]
  },
  {
   "cell_type": "code",
   "execution_count": 117,
   "metadata": {
    "collapsed": false
   },
   "outputs": [
    {
     "name": "stdout",
     "output_type": "stream",
     "text": [
      "should be relatively small\n",
      "0.383843817711 1.00215988188 0.426481568587\n",
      "\n",
      "should be relatively large\n",
      "1.2227077752 0.739782649754 1.1763356083 1.03340273845\n",
      "\n",
      "should be relatively small for the first two\n",
      "0.0591170404825 0.274441017481 1.51995750537\n"
     ]
    }
   ],
   "source": [
    "#print type(engine.model.productFeatures()) \n",
    "#http://spark.apache.org/docs/latest/api/python/pyspark.mllib.html#pyspark.mllib.recommendation.MatrixFactorizationModel.productFeatures\n",
    "\n",
    "'''meaning rating 5'''\n",
    "post1_ID = 1223\n",
    "post2_ID = 3052\n",
    "\n",
    "post1_movie = engine.model.productFeatures().filter(lambda x: x[0]==post1_ID).collect()\n",
    "post2_movie = engine.model.productFeatures().filter(lambda x: x[0]==post2_ID).collect()\n",
    "\n",
    "'''meaning rating =1'''\n",
    "negt1_ID = 2448\n",
    "negt2_ID = 2364\n",
    "\n",
    "negt1_movie = engine.model.productFeatures().filter(lambda x: x[0]==negt1_ID).collect()\n",
    "negt2_movie = engine.model.productFeatures().filter(lambda x: x[0]==negt2_ID).collect()\n",
    "\n",
    "'''high predicted rating'''\n",
    "\n",
    "pred1_ID = 1178\n",
    "pred2_ID = 2762\n",
    "\n",
    "pred1_movie = engine.model.productFeatures().filter(lambda x: x[0]==pred1_ID).collect()\n",
    "pred2_movie = engine.model.productFeatures().filter(lambda x: x[0]==pred2_ID).collect()\n",
    "\n",
    "\n",
    "post1_movie = np.array(post1_movie[0][1].tolist())\n",
    "post2_movie = np.array(post2_movie[0][1].tolist())\n",
    "\n",
    "negt1_movie = np.array(negt1_movie[0][1].tolist())\n",
    "negt2_movie = np.array(negt2_movie[0][1].tolist())\n",
    "\n",
    "pred1_movie = np.array(pred1_movie[0][1].tolist())\n",
    "pred2_movie = np.array(pred2_movie[0][1].tolist())\n",
    "\n",
    "print 'should be relatively small'\n",
    "print cosineSim(post1_movie,post2_movie), cosineSim(negt1_movie,negt2_movie), cosineSim(pred1_movie,pred2_movie)\n",
    "print\n",
    "print 'should be relatively large'\n",
    "print cosineSim(post1_movie,negt1_movie), cosineSim(post1_movie,negt2_movie), cosineSim(post2_movie,negt1_movie),\\\n",
    "                    cosineSim(post2_movie,negt2_movie)\n",
    "print \n",
    "print 'should be relatively small for the first two'    \n",
    "print cosineSim(post1_movie,pred1_movie), cosineSim(post1_movie,pred2_movie), cosineSim(negt1_movie,pred1_movie)"
   ]
  },
  {
   "cell_type": "code",
   "execution_count": 155,
   "metadata": {
    "collapsed": false
   },
   "outputs": [
    {
     "name": "stdout",
     "output_type": "stream",
     "text": [
      "0\n"
     ]
    }
   ],
   "source": [
    "print engine.movie_ID_counts[51]"
   ]
  },
  {
   "cell_type": "code",
   "execution_count": 122,
   "metadata": {
    "collapsed": false
   },
   "outputs": [
    {
     "name": "stdout",
     "output_type": "stream",
     "text": [
      "[-0.57763553 -0.59553528  0.02866167  1.93420017  0.45201772 -1.25490928\n",
      " -0.01410904 -1.14327478]\n"
     ]
    }
   ],
   "source": [
    "user_features = np.array(engine.model.userFeatures().filter(lambda x: x[0]==userID).collect()[0][1].tolist())\n",
    "print user_features"
   ]
  },
  {
   "cell_type": "markdown",
   "metadata": {},
   "source": [
    "#### **the user-500 should be similar to the moveies he/she rated with high socres:**"
   ]
  },
  {
   "cell_type": "code",
   "execution_count": 124,
   "metadata": {
    "collapsed": false
   },
   "outputs": [
    {
     "name": "stdout",
     "output_type": "stream",
     "text": [
      "0.113211930747 0.246259350281\n"
     ]
    }
   ],
   "source": [
    "print cosineSim(post1_movie, user_features.T), cosineSim(post2_movie, user_features.T)"
   ]
  },
  {
   "cell_type": "markdown",
   "metadata": {},
   "source": [
    "#### ** Whereas the user-500 should be far similar to the moveies he/she rated with low socres:**"
   ]
  },
  {
   "cell_type": "code",
   "execution_count": 125,
   "metadata": {
    "collapsed": false
   },
   "outputs": [
    {
     "name": "stdout",
     "output_type": "stream",
     "text": [
      "0.972324926964 0.721913547653\n"
     ]
    }
   ],
   "source": [
    "print cosineSim(negt1_movie, user_features.T), cosineSim(negt2_movie, user_features.T)"
   ]
  },
  {
   "cell_type": "markdown",
   "metadata": {
    "collapsed": true
   },
   "source": [
    "##**100k data**"
   ]
  },
  {
   "cell_type": "markdown",
   "metadata": {},
   "source": [
    "### **Training models**"
   ]
  },
  {
   "cell_type": "code",
   "execution_count": 2,
   "metadata": {
    "collapsed": false
   },
   "outputs": [
    {
     "name": "stdout",
     "output_type": "stream",
     "text": [
      "[Rating(user=196, product=242, rating=3.0), Rating(user=186, product=302, rating=3.0)]\n",
      "[(1, u'Toy Story (1995)'), (2, u'GoldenEye (1995)')]\n",
      "8 42 6 0.06\n",
      "For rank 4, reg 0.001, the RMSE is 1.11801578448\n",
      "For rank 4, reg 0.01, the RMSE is 1.02726783982\n",
      "For rank 4, reg 0.03, the RMSE is 0.988689096927\n",
      "For rank 4, reg 0.06, the RMSE is 0.959936904874\n",
      "For rank 4, reg 0.1, the RMSE is 0.947575079548\n",
      "For rank 4, reg 0.15, the RMSE is 0.947851716712\n",
      "For rank 4, reg 0.2, the RMSE is 0.956440227836\n",
      "For rank 4, reg 1.0, the RMSE is 1.38091279695\n",
      "For rank 8, reg 0.001, the RMSE is 1.3401866124\n",
      "For rank 8, reg 0.01, the RMSE is 1.11944012977\n",
      "For rank 8, reg 0.03, the RMSE is 1.03021556546\n",
      "For rank 8, reg 0.06, the RMSE is 0.980759802157\n",
      "For rank 8, reg 0.1, the RMSE is 0.955833042749\n",
      "For rank 8, reg 0.15, the RMSE is 0.950613839413\n",
      "For rank 8, reg 0.2, the RMSE is 0.95912901433\n",
      "For rank 8, reg 1.0, the RMSE is 1.38091978011\n",
      "For rank 12, reg 0.001, the RMSE is 1.52374275132\n",
      "For rank 12, reg 0.01, the RMSE is 1.17646538857\n",
      "For rank 12, reg 0.03, the RMSE is 1.05970736558\n",
      "For rank 12, reg 0.06, the RMSE is 0.992067927259\n",
      "For rank 12, reg 0.1, the RMSE is 0.957958914639\n",
      "For rank 12, reg 0.15, the RMSE is 0.949316091879\n",
      "For rank 12, reg 0.2, the RMSE is 0.956572458365\n",
      "For rank 12, reg 1.0, the RMSE is 1.38097064053\n",
      "The best model was trained with rank 4 and reg 0.1\n",
      "min error is  0.947575079548\n",
      "model is done\n"
     ]
    }
   ],
   "source": [
    "rank = 8\n",
    "seed = 5L\n",
    "iterations = 6\n",
    "regularization_parameter = 0.06\n",
    "ratings_file = 'data/ratings_100k.csv'\n",
    "movies_file = 'data/movies_100k.csv'\n",
    "engine_100k = RecommendationEngine(ratings_file, movies_file, rank, seed, iterations, regularization_parameter)"
   ]
  },
  {
   "cell_type": "code",
   "execution_count": 4,
   "metadata": {
    "collapsed": false
   },
   "outputs": [
    {
     "name": "stdout",
     "output_type": "stream",
     "text": [
      "the RMSE for the model is 0.94104599962\n"
     ]
    }
   ],
   "source": [
    "engine_100k.ratings_accuracy(engine_100k.testData)"
   ]
  },
  {
   "cell_type": "code",
   "execution_count": 133,
   "metadata": {
    "collapsed": false
   },
   "outputs": [
    {
     "name": "stdout",
     "output_type": "stream",
     "text": [
      "[((8, 338), 2.9505647236305528), ((8, 79), 4.195204064854052), ((8, 259), 2.6662304335158393)]\n"
     ]
    }
   ],
   "source": [
    "'''specify a user:'''\n",
    "\n",
    "userID = 8\n",
    "\n",
    "user_and_movie = engine_100k.ratings_RDD.filter(lambda x: x[0]==userID)\n",
    "predictions = engine_100k.get_predict_ratings(user_and_movie)\n",
    "print predictions.take(3)"
   ]
  },
  {
   "cell_type": "markdown",
   "metadata": {},
   "source": [
    "### **Compare predictions and variables**"
   ]
  },
  {
   "cell_type": "code",
   "execution_count": 134,
   "metadata": {
    "collapsed": false
   },
   "outputs": [
    {
     "name": "stdout",
     "output_type": "stream",
     "text": [
      "positive rating\n",
      "[((8, 56), (5.0, 4.288234332092983)), ((8, 258), (5.0, 4.082631274802845)), ((8, 127), (5.0, 4.60160047218472)), ((8, 188), (5.0, 3.9144191981544147)), ((8, 176), (5.0, 4.1482046392356))]\n",
      "\n",
      "negative rating\n",
      "[((8, 385), (1.0, 3.562812001730816)), ((8, 688), (1.0, 1.2239246254269873)), ((8, 259), (1.0, 2.6662304335158393)), ((8, 457), (1.0, 1.397414128548851)), ((8, 687), (1.0, 1.5768167099718895))]\n"
     ]
    }
   ],
   "source": [
    "print 'positive rating'\n",
    "print user_and_movie.map(lambda x: ((int(x[0]), int(x[1])), float(x[2]))).join(predictions).\\\n",
    "                filter(lambda x: x[1][0] > 4).take(5)\n",
    "print\n",
    "print 'negative rating'\n",
    "print user_and_movie.map(lambda x: ((int(x[0]), int(x[1])), float(x[2]))).join(predictions).\\\n",
    "                filter(lambda x: x[1][0] < 2).take(5)"
   ]
  },
  {
   "cell_type": "markdown",
   "metadata": {},
   "source": [
    "### **Predict unrated movies' ratings**"
   ]
  },
  {
   "cell_type": "code",
   "execution_count": 135,
   "metadata": {
    "collapsed": false
   },
   "outputs": [
    {
     "name": "stdout",
     "output_type": "stream",
     "text": [
      "[Rating(user=8, product=338, rating=4.0), Rating(user=8, product=550, rating=3.0), Rating(user=8, product=22, rating=5.0), Rating(user=8, product=50, rating=5.0), Rating(user=8, product=182, rating=5.0), Rating(user=8, product=79, rating=4.0), Rating(user=8, product=294, rating=3.0), Rating(user=8, product=457, rating=1.0), Rating(user=8, product=385, rating=1.0), Rating(user=8, product=89, rating=4.0)]\n",
      "8\n",
      "[((8, 1084), 4.402929256556682), ((8, 1410), 2.4213114219677316), ((8, 667), 2.5564203216125194), ((8, 1053), 2.8039730597771806), ((8, 466), 4.028442384637303)]\n",
      "_1  _2                   _3  _4                \n",
      "483 Casablanca (1942)    243 4.688850275964523 \n",
      "64  Shawshank Redempt... 283 4.568973973076136 \n",
      "12  Usual Suspects, T... 267 4.554684663622932 \n",
      "318 Schindler's List ... 298 4.521245199772927 \n",
      "515 Boot, Das (1981)     201 4.49900452109575  \n",
      "357 One Flew Over the... 264 4.495014566434263 \n",
      "603 Rear Window (1954)   209 4.481007287656523 \n",
      "98  Silence of the La... 390 4.477397547668557 \n",
      "427 To Kill a Mocking... 219 4.4169242972486895\n",
      "100 Fargo (1996)         508 4.399213650575339 \n"
     ]
    }
   ],
   "source": [
    "engine_100k.recommend_top_movies(user_and_movie)"
   ]
  },
  {
   "cell_type": "markdown",
   "metadata": {},
   "source": [
    "### **Item-item similarity**"
   ]
  },
  {
   "cell_type": "code",
   "execution_count": 137,
   "metadata": {
    "collapsed": false
   },
   "outputs": [
    {
     "name": "stdout",
     "output_type": "stream",
     "text": [
      "should be relatively small for the first one (neg-neg is not necessary close!)\n",
      "0.0188153553801 0.662125921388\n",
      "\n",
      "should be relatively large\n",
      "1.10847133836 1.18978141822 0.992705525385 0.950500438739\n",
      "\n",
      "should be relatively large\n",
      "0.743705023122\n"
     ]
    }
   ],
   "source": [
    "'''meaning rating 5'''\n",
    "post1_ID = 56\n",
    "post2_ID = 127\n",
    "\n",
    "post1_movie = engine_100k.model.productFeatures().filter(lambda x: x[0]==post1_ID).collect()\n",
    "post2_movie = engine_100k.model.productFeatures().filter(lambda x: x[0]==post2_ID).collect()\n",
    "\n",
    "'''meaning rating =1'''\n",
    "negt1_ID = 688\n",
    "negt2_ID = 457\n",
    "\n",
    "negt1_movie = engine_100k.model.productFeatures().filter(lambda x: x[0]==negt1_ID).collect()\n",
    "negt2_movie = engine_100k.model.productFeatures().filter(lambda x: x[0]==negt2_ID).collect()\n",
    "\n",
    "'''high predicted rating'''\n",
    "\n",
    "pred1_ID = 176   ## predicted post\n",
    "pred2_ID = 687   ## predicted neg\n",
    "\n",
    "pred1_movie = engine_100k.model.productFeatures().filter(lambda x: x[0]==pred1_ID).collect()\n",
    "pred2_movie = engine_100k.model.productFeatures().filter(lambda x: x[0]==pred2_ID).collect()\n",
    "\n",
    "\n",
    "post1_movie = np.array(post1_movie[0][1].tolist())\n",
    "post2_movie = np.array(post2_movie[0][1].tolist())\n",
    "\n",
    "negt1_movie = np.array(negt1_movie[0][1].tolist())\n",
    "negt2_movie = np.array(negt2_movie[0][1].tolist())\n",
    "\n",
    "pred1_movie = np.array(pred1_movie[0][1].tolist())\n",
    "pred2_movie = np.array(pred2_movie[0][1].tolist())\n",
    "\n",
    "\n",
    "print 'should be relatively small for the first one (neg-neg is not necessary close!)'\n",
    "print cosineSim(post1_movie,post2_movie), cosineSim(negt1_movie,negt2_movie)\n",
    "print\n",
    "print 'should be relatively large'\n",
    "print cosineSim(post1_movie,negt1_movie), cosineSim(post1_movie,negt2_movie), cosineSim(post2_movie,negt1_movie),\\\n",
    "                    cosineSim(post2_movie,negt2_movie)\n",
    "print \n",
    "print 'should be relatively large'    \n",
    "print cosineSim(pred1_movie,pred2_movie)\n"
   ]
  },
  {
   "cell_type": "code",
   "execution_count": 140,
   "metadata": {
    "collapsed": false
   },
   "outputs": [
    {
     "name": "stdout",
     "output_type": "stream",
     "text": [
      "[-1.23683262 -1.74224102 -0.03648547  0.66756839]\n"
     ]
    }
   ],
   "source": [
    "user_features = np.array(engine_100k.model.userFeatures().filter(lambda x: x[0]==userID).collect()[0][1].tolist())\n",
    "print user_features"
   ]
  },
  {
   "cell_type": "code",
   "execution_count": 141,
   "metadata": {
    "collapsed": false
   },
   "outputs": [
    {
     "name": "stdout",
     "output_type": "stream",
     "text": [
      "0.11664627668 0.0517930143915\n"
     ]
    }
   ],
   "source": [
    "print cosineSim(post1_movie, user_features.T), cosineSim(post2_movie, user_features.T)"
   ]
  },
  {
   "cell_type": "code",
   "execution_count": 142,
   "metadata": {
    "collapsed": false
   },
   "outputs": [
    {
     "name": "stdout",
     "output_type": "stream",
     "text": [
      "1.11541520943 0.719516809585\n"
     ]
    }
   ],
   "source": [
    "print cosineSim(negt1_movie, user_features.T), cosineSim(negt2_movie, user_features.T)"
   ]
  },
  {
   "cell_type": "markdown",
   "metadata": {},
   "source": [
    "##**Now assume we have a new user who has rated**"
   ]
  },
  {
   "cell_type": "code",
   "execution_count": 10,
   "metadata": {
    "collapsed": true
   },
   "outputs": [],
   "source": [
    "newUser_ratings = [\n",
    "     Rating(0,260,4), # Star Wars (1977)\n",
    "     Rating(0,1,3), # Toy Story (1995)\n",
    "     Rating(0,16,3), # Casino (1995)\n",
    "     Rating(0,25,4), # Leaving Las Vegas (1995)\n",
    "     Rating(0,32,4), # Twelve Monkeys (a.k.a. 12 Monkeys) (1995)\n",
    "     Rating(0,335,1), # Underneath (1995)\n",
    "     Rating(0,379,1), # Timecop (1994)\n",
    "     Rating(0,296,3), # Pulp Fiction (1994)\n",
    "     Rating(0,858,5) , # Godfather, The (1972)\n",
    "     Rating(0,50,4) # Usual Suspects, The (1995)\n",
    "    ]"
   ]
  },
  {
   "cell_type": "code",
   "execution_count": 11,
   "metadata": {
    "collapsed": false
   },
   "outputs": [
    {
     "name": "stdout",
     "output_type": "stream",
     "text": [
      "8 42 6 0.06\n",
      "For rank 4, reg 0.001, the RMSE is 0.904163396926\n",
      "For rank 4, reg 0.01, the RMSE is 0.888543319507\n",
      "For rank 4, reg 0.03, the RMSE is 0.882919134443\n",
      "For rank 4, reg 0.06, the RMSE is 0.880583352363\n",
      "For rank 4, reg 0.1, the RMSE is 0.883409649717\n",
      "For rank 4, reg 0.15, the RMSE is 0.893538980472\n",
      "For rank 4, reg 0.2, the RMSE is 0.908244980544\n",
      "For rank 4, reg 1.0, the RMSE is 1.35152666631\n",
      "For rank 8, reg 0.001, the RMSE is 0.983675007946\n",
      "For rank 8, reg 0.01, the RMSE is 0.915240361196\n",
      "For rank 8, reg 0.03, the RMSE is 0.889541114291\n",
      "For rank 8, reg 0.06, the RMSE is 0.881373993055\n",
      "For rank 8, reg 0.1, the RMSE is 0.88776764348\n",
      "For rank 8, reg 0.15, the RMSE is 0.905968770826\n",
      "For rank 8, reg 0.2, the RMSE is 0.92433251938\n",
      "For rank 8, reg 1.0, the RMSE is 1.35225410714\n",
      "For rank 12, reg 0.001, the RMSE is 1.06518487852\n",
      "For rank 12, reg 0.01, the RMSE is 0.945138960457\n",
      "For rank 12, reg 0.03, the RMSE is 0.899947183589\n",
      "For rank 12, reg 0.06, the RMSE is 0.881755523356\n",
      "For rank 12, reg 0.1, the RMSE is 0.886391933041\n",
      "For rank 12, reg 0.15, the RMSE is 0.907391732862\n",
      "For rank 12, reg 0.2, the RMSE is 0.926361001086\n",
      "For rank 12, reg 1.0, the RMSE is 1.35224674714\n",
      "The best model was trained with rank 4 and reg 0.06\n",
      "min error is  0.880583352363\n",
      "new model training is done\n"
     ]
    }
   ],
   "source": [
    "newUser_ratings_RDD = engine.add_ratings(newUser_ratings)\n",
    "## newUser_ratings_RDD is only new user's rating RDD."
   ]
  },
  {
   "cell_type": "code",
   "execution_count": 12,
   "metadata": {
    "collapsed": false
   },
   "outputs": [
    {
     "name": "stdout",
     "output_type": "stream",
     "text": [
      "the RMSE for the model is 0.880572076121\n"
     ]
    }
   ],
   "source": [
    "engine.valData = engine.valData.union(newUser_ratings_RDD)\n",
    "engine.ratings_accuracy(engine.valData)"
   ]
  },
  {
   "cell_type": "code",
   "execution_count": 52,
   "metadata": {
    "collapsed": false
   },
   "outputs": [
    {
     "name": "stdout",
     "output_type": "stream",
     "text": [
      "[((0, 1), 3.3395732691672184), ((0, 379), 1.4788310248877243), ((0, 858), 3.9573811205889897), ((0, 296), 3.7549873617519243), ((0, 50), 3.8390424479761176), ((0, 16), 3.027568750552986), ((0, 260), 3.650261669516125), ((0, 25), 3.2876578137207826), ((0, 335), 1.9651433896832557), ((0, 32), 3.12707648540166)]\n"
     ]
    }
   ],
   "source": [
    "newUser_predictedRatings_RDD = engine.get_predict_ratings(newUser_ratings_RDD)\n",
    "print newUser_predictedRatings_RDD.take(10)"
   ]
  },
  {
   "cell_type": "code",
   "execution_count": 53,
   "metadata": {
    "collapsed": false
   },
   "outputs": [
    {
     "name": "stdout",
     "output_type": "stream",
     "text": [
      "[((0, 32), (4.0, 3.12707648540166)), ((0, 858), (5.0, 3.9573811205889897)), ((0, 50), (4.0, 3.8390424479761176)), ((0, 16), (3.0, 3.027568750552986)), ((0, 260), (4.0, 3.650261669516125)), ((0, 296), (3.0, 3.7549873617519243)), ((0, 1), (3.0, 3.3395732691672184)), ((0, 25), (4.0, 3.2876578137207826)), ((0, 379), (1.0, 1.4788310248877243)), ((0, 335), (1.0, 1.9651433896832557))]\n"
     ]
    }
   ],
   "source": [
    "print newUser_ratings_RDD.map(lambda x: ((int(x[0]), int(x[1])), float(x[2]))).join(newUser_predictedRatings_RDD).take(10)"
   ]
  },
  {
   "cell_type": "markdown",
   "metadata": {},
   "source": [
    "## **Other tests**"
   ]
  },
  {
   "cell_type": "code",
   "execution_count": 103,
   "metadata": {
    "collapsed": false
   },
   "outputs": [
    {
     "data": {
      "text/plain": [
       "701"
      ]
     },
     "execution_count": 103,
     "metadata": {},
     "output_type": "execute_result"
    }
   ],
   "source": [
    "engine.movie_ID_counts[2]"
   ]
  },
  {
   "cell_type": "code",
   "execution_count": 106,
   "metadata": {
    "collapsed": false
   },
   "outputs": [
    {
     "data": {
      "text/plain": [
       "3.20114122681883"
      ]
     },
     "execution_count": 106,
     "metadata": {},
     "output_type": "execute_result"
    }
   ],
   "source": [
    "engine.movie_ID_avgRating_RDD.take(1)[0][1]/engine.movie_ID_counts[2]"
   ]
  },
  {
   "cell_type": "code",
   "execution_count": null,
   "metadata": {
    "collapsed": true
   },
   "outputs": [],
   "source": []
  },
  {
   "cell_type": "code",
   "execution_count": 34,
   "metadata": {
    "collapsed": false
   },
   "outputs": [
    {
     "data": {
      "text/plain": [
       "0.44734950773855076"
      ]
     },
     "execution_count": 34,
     "metadata": {},
     "output_type": "execute_result"
    }
   ],
   "source": [
    "r1 = (1, 1, 1.0)\n",
    "r2 = (1, 2, 2.0)\n",
    "r3 = (2, 1, 2.0)\n",
    "ratings = sc.parallelize([r1, r2, r3])\n",
    "model = ALS.trainImplicit(ratings, 1, seed=10)\n",
    "model.predict(2, 2)"
   ]
  },
  {
   "cell_type": "code",
   "execution_count": 35,
   "metadata": {
    "collapsed": false
   },
   "outputs": [
    {
     "data": {
      "text/plain": [
       "3.7354516875093964"
      ]
     },
     "execution_count": 35,
     "metadata": {},
     "output_type": "execute_result"
    }
   ],
   "source": [
    "model = ALS.train(ratings, 1, seed=10)\n",
    "model.predict(2, 2)"
   ]
  },
  {
   "cell_type": "code",
   "execution_count": 36,
   "metadata": {
    "collapsed": false
   },
   "outputs": [
    {
     "data": {
      "text/plain": [
       "[Rating(user=1, product=1, rating=1.0000205743675004),\n",
       " Rating(user=1, product=2, rating=1.9894577401518987)]"
      ]
     },
     "execution_count": 36,
     "metadata": {},
     "output_type": "execute_result"
    }
   ],
   "source": [
    "testset = sc.parallelize([(1, 2), (1, 1)])\n",
    "model = ALS.train(ratings, 2, seed=0)\n",
    "model.predictAll(testset).collect()"
   ]
  },
  {
   "cell_type": "code",
   "execution_count": 37,
   "metadata": {
    "collapsed": false
   },
   "outputs": [
    {
     "data": {
      "text/plain": [
       "[(1,\n",
       "  array('d', [-0.1722072809934616, -0.2546672224998474, 0.4450570344924927, 0.8685435652732849])),\n",
       " (2,\n",
       "  array('d', [0.03678629547357559, 0.13991205394268036, -0.4741528630256653, 0.8534172177314758]))]"
      ]
     },
     "execution_count": 37,
     "metadata": {},
     "output_type": "execute_result"
    }
   ],
   "source": [
    "model = ALS.train(ratings, 4, seed=10)\n",
    "model.userFeatures().collect()"
   ]
  },
  {
   "cell_type": "code",
   "execution_count": 42,
   "metadata": {
    "collapsed": false
   },
   "outputs": [
    {
     "data": {
      "text/plain": [
       "[(1,\n",
       "  array('d', [0.0753466933965683, 0.2865716814994812, -0.9711728096008301, 1.7479923963546753])),\n",
       " (2,\n",
       "  array('d', [-0.3266752362251282, -0.482692152261734, 0.8424565196037292, 1.6525822877883911]))]"
      ]
     },
     "execution_count": 42,
     "metadata": {},
     "output_type": "execute_result"
    }
   ],
   "source": [
    "model.productFeatures().collect()"
   ]
  },
  {
   "cell_type": "code",
   "execution_count": 41,
   "metadata": {
    "collapsed": false
   },
   "outputs": [
    {
     "ename": "AttributeError",
     "evalue": "'MatrixFactorizationModel' object has no attribute 'recommendUsersForProducts'",
     "output_type": "error",
     "traceback": [
      "\u001b[1;31m---------------------------------------------------------------------------\u001b[0m",
      "\u001b[1;31mAttributeError\u001b[0m                            Traceback (most recent call last)",
      "\u001b[1;32m<ipython-input-41-d0b89b6f918b>\u001b[0m in \u001b[0;36m<module>\u001b[1;34m()\u001b[0m\n\u001b[0;32m      1\u001b[0m \u001b[1;32mfrom\u001b[0m \u001b[0mpyspark\u001b[0m\u001b[1;33m.\u001b[0m\u001b[0mmllib\u001b[0m\u001b[1;33m.\u001b[0m\u001b[0mrecommendation\u001b[0m \u001b[1;32mimport\u001b[0m \u001b[0mMatrixFactorizationModel\u001b[0m\u001b[1;33m\u001b[0m\u001b[0m\n\u001b[1;32m----> 2\u001b[1;33m \u001b[0mmodel\u001b[0m\u001b[1;33m.\u001b[0m\u001b[0mrecommendUsersForProducts\u001b[0m\u001b[1;33m(\u001b[0m\u001b[1;36m1\u001b[0m\u001b[1;33m)\u001b[0m\u001b[1;33m.\u001b[0m\u001b[0mcollect\u001b[0m\u001b[1;33m(\u001b[0m\u001b[1;33m)\u001b[0m\u001b[1;33m\u001b[0m\u001b[0m\n\u001b[0m",
      "\u001b[1;31mAttributeError\u001b[0m: 'MatrixFactorizationModel' object has no attribute 'recommendUsersForProducts'"
     ]
    }
   ],
   "source": [
    "from pyspark.mllib.recommendation import MatrixFactorizationModel\n",
    "model.recommendUsersForProducts(1).collect()"
   ]
  },
  {
   "cell_type": "code",
   "execution_count": 43,
   "metadata": {
    "collapsed": false
   },
   "outputs": [
    {
     "ename": "AttributeError",
     "evalue": "'MatrixFactorizationModel' object has no attribute 'recommendProductsForUsers'",
     "output_type": "error",
     "traceback": [
      "\u001b[1;31m---------------------------------------------------------------------------\u001b[0m",
      "\u001b[1;31mAttributeError\u001b[0m                            Traceback (most recent call last)",
      "\u001b[1;32m<ipython-input-43-6a786550b403>\u001b[0m in \u001b[0;36m<module>\u001b[1;34m()\u001b[0m\n\u001b[1;32m----> 1\u001b[1;33m \u001b[0mmodel\u001b[0m\u001b[1;33m.\u001b[0m\u001b[0mrecommendProductsForUsers\u001b[0m\u001b[1;33m(\u001b[0m\u001b[1;36m1\u001b[0m\u001b[1;33m)\u001b[0m\u001b[1;33m.\u001b[0m\u001b[0mcollect\u001b[0m\u001b[1;33m(\u001b[0m\u001b[1;33m)\u001b[0m\u001b[1;33m\u001b[0m\u001b[0m\n\u001b[0m",
      "\u001b[1;31mAttributeError\u001b[0m: 'MatrixFactorizationModel' object has no attribute 'recommendProductsForUsers'"
     ]
    }
   ],
   "source": [
    "model.recommendProductsForUsers(1).collect()"
   ]
  },
  {
   "cell_type": "code",
   "execution_count": 45,
   "metadata": {
    "collapsed": false
   },
   "outputs": [
    {
     "name": "stdout",
     "output_type": "stream",
     "text": [
      "<property object at 0xb208ad74>\n"
     ]
    }
   ],
   "source": [
    "print SparkContext.version"
   ]
  },
  {
   "cell_type": "code",
   "execution_count": null,
   "metadata": {
    "collapsed": true
   },
   "outputs": [],
   "source": []
  }
 ],
 "metadata": {
  "kernelspec": {
   "display_name": "Python 2",
   "language": "python",
   "name": "python2"
  },
  "language_info": {
   "codemirror_mode": {
    "name": "ipython",
    "version": 2
   },
   "file_extension": ".py",
   "mimetype": "text/x-python",
   "name": "python",
   "nbconvert_exporter": "python",
   "pygments_lexer": "ipython2",
   "version": "2.7.6"
  }
 },
 "nbformat": 4,
 "nbformat_minor": 0
}
